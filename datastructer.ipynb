{
 "cells": [
  {
   "cell_type": "code",
   "execution_count": 1,
   "id": "inside-washington",
   "metadata": {},
   "outputs": [],
   "source": [
    "#list type of data structer\n",
    "l=[1,2,3,4]\n",
    "#list are the order\n",
    "#list are the dyanamically\n",
    "    "
   ]
  },
  {
   "cell_type": "code",
   "execution_count": 2,
   "id": "prepared-logistics",
   "metadata": {},
   "outputs": [
    {
     "name": "stdout",
     "output_type": "stream",
     "text": [
      "<class 'int'>\n"
     ]
    },
    {
     "data": {
      "text/plain": [
       "(2,)"
      ]
     },
     "execution_count": 2,
     "metadata": {},
     "output_type": "execute_result"
    }
   ],
   "source": [
    "#tuple\n",
    "t=(1,2,3,4)\n",
    "#Value seperated by the comma\n",
    "y=1,2,3,4,5\n",
    "v=5\n",
    "print(type(v))\n",
    "u=2,\n",
    "#make a data private use tuple\n",
    "u"
   ]
  },
  {
   "cell_type": "code",
   "execution_count": 3,
   "id": "artificial-annual",
   "metadata": {},
   "outputs": [
    {
     "data": {
      "text/plain": [
       "dict_keys([(2, 3, 4)])"
      ]
     },
     "execution_count": 3,
     "metadata": {},
     "output_type": "execute_result"
    }
   ],
   "source": [
    "#dictionary\n",
    "#key must be immutable type and uniqe so we have tuple as key\n",
    "d={(2,3,4):43}\n",
    "d.keys()"
   ]
  },
  {
   "cell_type": "code",
   "execution_count": 4,
   "id": "parallel-devon",
   "metadata": {},
   "outputs": [
    {
     "data": {
      "text/plain": [
       "{'1': 1}"
      ]
     },
     "execution_count": 4,
     "metadata": {},
     "output_type": "execute_result"
    }
   ],
   "source": [
    "d={}\n",
    "d['1']=1\n",
    "d"
   ]
  },
  {
   "cell_type": "code",
   "execution_count": 5,
   "id": "willing-rebate",
   "metadata": {},
   "outputs": [
    {
     "data": {
      "text/plain": [
       "{'g', 'h', 'j'}"
      ]
     },
     "execution_count": 5,
     "metadata": {},
     "output_type": "execute_result"
    }
   ],
   "source": [
    "#set is collection of uniqe value\n",
    "s=set(\"hjhjg\")\n",
    "s\n",
    "#set is unorder"
   ]
  },
  {
   "cell_type": "code",
   "execution_count": 6,
   "id": "natural-insulin",
   "metadata": {},
   "outputs": [
    {
     "data": {
      "text/plain": [
       "{(2, 3, 4), (4, 4, 5)}"
      ]
     },
     "execution_count": 6,
     "metadata": {},
     "output_type": "execute_result"
    }
   ],
   "source": [
    "s={(2,3,4),(4,4,5)}\n",
    "s\n",
    "#set has contain only imuatable data type of object"
   ]
  },
  {
   "cell_type": "code",
   "execution_count": 7,
   "id": "reverse-darkness",
   "metadata": {},
   "outputs": [],
   "source": [
    "#user datatye"
   ]
  },
  {
   "cell_type": "code",
   "execution_count": 8,
   "id": "wrong-actress",
   "metadata": {},
   "outputs": [],
   "source": [
    "#stack\n",
    "#push pop peek or top isEmpty\n",
    "#use reversed string ,post fix backword and forword web browser\n",
    "#postfix prefix \n"
   ]
  },
  {
   "cell_type": "code",
   "execution_count": 9,
   "id": "greek-visit",
   "metadata": {},
   "outputs": [
    {
     "name": "stdout",
     "output_type": "stream",
     "text": [
      "[23, 20, 27]\n"
     ]
    },
    {
     "data": {
      "text/plain": [
       "27"
      ]
     },
     "execution_count": 9,
     "metadata": {},
     "output_type": "execute_result"
    }
   ],
   "source": [
    "#using list\n",
    "stack=[]\n",
    "stack.append(23)\n",
    "stack.append(20)\n",
    "stack.append(27)\n",
    "print(stack)\n",
    "stack.pop()"
   ]
  },
  {
   "cell_type": "code",
   "execution_count": 10,
   "id": "theoretical-mambo",
   "metadata": {},
   "outputs": [
    {
     "data": {
      "text/plain": [
       "False"
      ]
     },
     "execution_count": 10,
     "metadata": {},
     "output_type": "execute_result"
    }
   ],
   "source": [
    "len(stack)==0\n",
    "not stack"
   ]
  },
  {
   "cell_type": "code",
   "execution_count": 11,
   "id": "victorian-treatment",
   "metadata": {},
   "outputs": [],
   "source": [
    "stack=[]\n",
    "def push(element):\n",
    "    stack.append(element)\n",
    "    print(stack)\n",
    "def popp():\n",
    "    if not stack:\n",
    "        print(\"stack is empty\")\n",
    "    else:\n",
    "        print(\"removed element is\",stack.remove())\n",
    "        print(stack)\n",
    "    "
   ]
  },
  {
   "cell_type": "code",
   "execution_count": 12,
   "id": "adjacent-arrow",
   "metadata": {},
   "outputs": [
    {
     "name": "stdout",
     "output_type": "stream",
     "text": [
      "select the choice 1 push 2 pop 3 quit\n",
      "enter the choice3\n"
     ]
    }
   ],
   "source": [
    "while True:\n",
    "    print(\"select the choice 1 push 2 pop 3 quit\")\n",
    "    ch=int(input(\"enter the choice\"))\n",
    "    if ch==1:\n",
    "        \n",
    "        push(input(\"enter the vlaue\"))\n",
    "    elif ch==2:\n",
    "        popp()\n",
    "    elif ch==3:\n",
    "        break\n",
    "    else:\n",
    "        print(\"Enter  the correct option\")"
   ]
  },
  {
   "cell_type": "code",
   "execution_count": 13,
   "id": "unexpected-champagne",
   "metadata": {},
   "outputs": [],
   "source": [
    "import collections"
   ]
  },
  {
   "cell_type": "code",
   "execution_count": 14,
   "id": "ecological-continuity",
   "metadata": {},
   "outputs": [],
   "source": [
    "stack=collections.deque()"
   ]
  },
  {
   "cell_type": "code",
   "execution_count": 15,
   "id": "pregnant-description",
   "metadata": {},
   "outputs": [
    {
     "data": {
      "text/plain": [
       "deque([])"
      ]
     },
     "execution_count": 15,
     "metadata": {},
     "output_type": "execute_result"
    }
   ],
   "source": [
    "stack"
   ]
  },
  {
   "cell_type": "code",
   "execution_count": 16,
   "id": "traditional-contrast",
   "metadata": {},
   "outputs": [],
   "source": [
    "stack.append(787)"
   ]
  },
  {
   "cell_type": "code",
   "execution_count": 17,
   "id": "studied-society",
   "metadata": {},
   "outputs": [
    {
     "data": {
      "text/plain": [
       "787"
      ]
     },
     "execution_count": 17,
     "metadata": {},
     "output_type": "execute_result"
    }
   ],
   "source": [
    "stack.pop()"
   ]
  },
  {
   "cell_type": "code",
   "execution_count": 18,
   "id": "friendly-french",
   "metadata": {},
   "outputs": [
    {
     "data": {
      "text/plain": [
       "deque([])"
      ]
     },
     "execution_count": 18,
     "metadata": {},
     "output_type": "execute_result"
    }
   ],
   "source": [
    "stack"
   ]
  },
  {
   "cell_type": "code",
   "execution_count": 19,
   "id": "exotic-atlas",
   "metadata": {},
   "outputs": [],
   "source": [
    "import queue"
   ]
  },
  {
   "cell_type": "code",
   "execution_count": 20,
   "id": "valued-leather",
   "metadata": {},
   "outputs": [],
   "source": [
    "stack=queue.LifoQueue()"
   ]
  },
  {
   "cell_type": "code",
   "execution_count": 21,
   "id": "inclusive-daily",
   "metadata": {},
   "outputs": [],
   "source": [
    "stack.put(8)"
   ]
  },
  {
   "cell_type": "code",
   "execution_count": 22,
   "id": "stylish-longer",
   "metadata": {},
   "outputs": [
    {
     "data": {
      "text/plain": [
       "8"
      ]
     },
     "execution_count": 22,
     "metadata": {},
     "output_type": "execute_result"
    }
   ],
   "source": [
    "stack.get()"
   ]
  },
  {
   "cell_type": "code",
   "execution_count": 23,
   "id": "wrong-thing",
   "metadata": {},
   "outputs": [],
   "source": [
    "#stack.get()"
   ]
  },
  {
   "cell_type": "code",
   "execution_count": 24,
   "id": "brilliant-turner",
   "metadata": {},
   "outputs": [],
   "source": [
    "#queue\n",
    "#enqueue =add\n",
    "#dequeue=pop,isfull,isempty\n",
    "#uploading the bunch of photo printer call center\n",
    "#list and module append and pop(0)\n"
   ]
  },
  {
   "cell_type": "code",
   "execution_count": 25,
   "id": "polished-stuff",
   "metadata": {},
   "outputs": [],
   "source": [
    "queue=[]\n",
    "queue.append(8)"
   ]
  },
  {
   "cell_type": "code",
   "execution_count": 26,
   "id": "optimum-satellite",
   "metadata": {},
   "outputs": [
    {
     "data": {
      "text/plain": [
       "8"
      ]
     },
     "execution_count": 26,
     "metadata": {},
     "output_type": "execute_result"
    }
   ],
   "source": [
    "queue.pop(0)"
   ]
  },
  {
   "cell_type": "code",
   "execution_count": 27,
   "id": "meaningful-stack",
   "metadata": {},
   "outputs": [],
   "source": [
    "#other ways queue insert(0,12) and pop()"
   ]
  },
  {
   "cell_type": "code",
   "execution_count": 28,
   "id": "serious-quilt",
   "metadata": {},
   "outputs": [],
   "source": [
    "queue=collections.deque()"
   ]
  },
  {
   "cell_type": "code",
   "execution_count": 29,
   "id": "excess-brunswick",
   "metadata": {},
   "outputs": [],
   "source": [
    "queue.append(10)"
   ]
  },
  {
   "cell_type": "code",
   "execution_count": 30,
   "id": "mathematical-switzerland",
   "metadata": {},
   "outputs": [
    {
     "data": {
      "text/plain": [
       "10"
      ]
     },
     "execution_count": 30,
     "metadata": {},
     "output_type": "execute_result"
    }
   ],
   "source": [
    "queue.popleft()"
   ]
  },
  {
   "cell_type": "code",
   "execution_count": 31,
   "id": "patient-coalition",
   "metadata": {},
   "outputs": [
    {
     "ename": "AttributeError",
     "evalue": "'collections.deque' object has no attribute 'Queue'",
     "output_type": "error",
     "traceback": [
      "\u001b[1;31m---------------------------------------------------------------------------\u001b[0m",
      "\u001b[1;31mAttributeError\u001b[0m                            Traceback (most recent call last)",
      "\u001b[1;32m<ipython-input-31-fc2c8fa9f7a9>\u001b[0m in \u001b[0;36m<module>\u001b[1;34m\u001b[0m\n\u001b[1;32m----> 1\u001b[1;33m \u001b[0mqu\u001b[0m\u001b[1;33m=\u001b[0m\u001b[0mqueue\u001b[0m\u001b[1;33m.\u001b[0m\u001b[0mQueue\u001b[0m\u001b[1;33m(\u001b[0m\u001b[1;33m)\u001b[0m\u001b[1;33m\u001b[0m\u001b[1;33m\u001b[0m\u001b[0m\n\u001b[0m",
      "\u001b[1;31mAttributeError\u001b[0m: 'collections.deque' object has no attribute 'Queue'"
     ]
    }
   ],
   "source": [
    "qu=queue.Queue()"
   ]
  },
  {
   "cell_type": "code",
   "execution_count": 32,
   "id": "confirmed-round",
   "metadata": {},
   "outputs": [
    {
     "ename": "NameError",
     "evalue": "name 'qu' is not defined",
     "output_type": "error",
     "traceback": [
      "\u001b[1;31m---------------------------------------------------------------------------\u001b[0m",
      "\u001b[1;31mNameError\u001b[0m                                 Traceback (most recent call last)",
      "\u001b[1;32m<ipython-input-32-c7620f2487d0>\u001b[0m in \u001b[0;36m<module>\u001b[1;34m\u001b[0m\n\u001b[1;32m----> 1\u001b[1;33m \u001b[0mqu\u001b[0m\u001b[1;33m.\u001b[0m\u001b[0mput\u001b[0m\u001b[1;33m(\u001b[0m\u001b[0mitem\u001b[0m\u001b[1;33m=\u001b[0m\u001b[1;36m6\u001b[0m\u001b[1;33m)\u001b[0m\u001b[1;33m\u001b[0m\u001b[1;33m\u001b[0m\u001b[0m\n\u001b[0m",
      "\u001b[1;31mNameError\u001b[0m: name 'qu' is not defined"
     ]
    }
   ],
   "source": [
    "qu.put(item=6)"
   ]
  },
  {
   "cell_type": "code",
   "execution_count": 33,
   "id": "graphic-windsor",
   "metadata": {},
   "outputs": [
    {
     "ename": "NameError",
     "evalue": "name 'qu' is not defined",
     "output_type": "error",
     "traceback": [
      "\u001b[1;31m---------------------------------------------------------------------------\u001b[0m",
      "\u001b[1;31mNameError\u001b[0m                                 Traceback (most recent call last)",
      "\u001b[1;32m<ipython-input-33-f11391ba618c>\u001b[0m in \u001b[0;36m<module>\u001b[1;34m\u001b[0m\n\u001b[1;32m----> 1\u001b[1;33m \u001b[0mqu\u001b[0m\u001b[1;33m.\u001b[0m\u001b[0mput\u001b[0m\u001b[1;33m(\u001b[0m\u001b[1;36m9\u001b[0m\u001b[1;33m)\u001b[0m\u001b[1;33m\u001b[0m\u001b[1;33m\u001b[0m\u001b[0m\n\u001b[0m",
      "\u001b[1;31mNameError\u001b[0m: name 'qu' is not defined"
     ]
    }
   ],
   "source": [
    "qu.put(9)"
   ]
  },
  {
   "cell_type": "code",
   "execution_count": 34,
   "id": "taken-graph",
   "metadata": {},
   "outputs": [
    {
     "ename": "NameError",
     "evalue": "name 'qu' is not defined",
     "output_type": "error",
     "traceback": [
      "\u001b[1;31m---------------------------------------------------------------------------\u001b[0m",
      "\u001b[1;31mNameError\u001b[0m                                 Traceback (most recent call last)",
      "\u001b[1;32m<ipython-input-34-f11391ba618c>\u001b[0m in \u001b[0;36m<module>\u001b[1;34m\u001b[0m\n\u001b[1;32m----> 1\u001b[1;33m \u001b[0mqu\u001b[0m\u001b[1;33m.\u001b[0m\u001b[0mput\u001b[0m\u001b[1;33m(\u001b[0m\u001b[1;36m9\u001b[0m\u001b[1;33m)\u001b[0m\u001b[1;33m\u001b[0m\u001b[1;33m\u001b[0m\u001b[0m\n\u001b[0m",
      "\u001b[1;31mNameError\u001b[0m: name 'qu' is not defined"
     ]
    }
   ],
   "source": [
    "qu.put(9)"
   ]
  },
  {
   "cell_type": "code",
   "execution_count": 35,
   "id": "becoming-hampton",
   "metadata": {},
   "outputs": [
    {
     "ename": "NameError",
     "evalue": "name 'qu' is not defined",
     "output_type": "error",
     "traceback": [
      "\u001b[1;31m---------------------------------------------------------------------------\u001b[0m",
      "\u001b[1;31mNameError\u001b[0m                                 Traceback (most recent call last)",
      "\u001b[1;32m<ipython-input-35-4f837844fb23>\u001b[0m in \u001b[0;36m<module>\u001b[1;34m\u001b[0m\n\u001b[1;32m----> 1\u001b[1;33m \u001b[0mqu\u001b[0m\u001b[1;33m.\u001b[0m\u001b[0mget\u001b[0m\u001b[1;33m(\u001b[0m\u001b[1;33m)\u001b[0m\u001b[1;33m\u001b[0m\u001b[1;33m\u001b[0m\u001b[0m\n\u001b[0m",
      "\u001b[1;31mNameError\u001b[0m: name 'qu' is not defined"
     ]
    }
   ],
   "source": [
    "qu.get()"
   ]
  },
  {
   "cell_type": "code",
   "execution_count": 36,
   "id": "typical-warning",
   "metadata": {},
   "outputs": [],
   "source": [
    "#priority Queue hospital condition\n",
    "#"
   ]
  },
  {
   "cell_type": "code",
   "execution_count": 37,
   "id": "further-foundation",
   "metadata": {},
   "outputs": [],
   "source": [
    "q=[]\n",
    "q.append(10)"
   ]
  },
  {
   "cell_type": "code",
   "execution_count": 38,
   "id": "laughing-scotland",
   "metadata": {},
   "outputs": [],
   "source": [
    "q.append(20)"
   ]
  },
  {
   "cell_type": "code",
   "execution_count": 39,
   "id": "nominated-defense",
   "metadata": {},
   "outputs": [],
   "source": [
    "q.sort()"
   ]
  },
  {
   "cell_type": "code",
   "execution_count": 40,
   "id": "bronze-mystery",
   "metadata": {},
   "outputs": [
    {
     "data": {
      "text/plain": [
       "20"
      ]
     },
     "execution_count": 40,
     "metadata": {},
     "output_type": "execute_result"
    }
   ],
   "source": [
    "q.pop()"
   ]
  },
  {
   "cell_type": "code",
   "execution_count": 41,
   "id": "standard-occurrence",
   "metadata": {},
   "outputs": [],
   "source": [
    "#best way to creating the priority is binary heap "
   ]
  },
  {
   "cell_type": "code",
   "execution_count": 42,
   "id": "monthly-girlfriend",
   "metadata": {},
   "outputs": [
    {
     "ename": "AttributeError",
     "evalue": "'collections.deque' object has no attribute 'PriorityQueue'",
     "output_type": "error",
     "traceback": [
      "\u001b[1;31m---------------------------------------------------------------------------\u001b[0m",
      "\u001b[1;31mAttributeError\u001b[0m                            Traceback (most recent call last)",
      "\u001b[1;32m<ipython-input-42-c45eaebc0888>\u001b[0m in \u001b[0;36m<module>\u001b[1;34m\u001b[0m\n\u001b[1;32m----> 1\u001b[1;33m \u001b[0mq\u001b[0m\u001b[1;33m=\u001b[0m\u001b[0mqueue\u001b[0m\u001b[1;33m.\u001b[0m\u001b[0mPriorityQueue\u001b[0m\u001b[1;33m(\u001b[0m\u001b[1;33m)\u001b[0m\u001b[1;33m\u001b[0m\u001b[1;33m\u001b[0m\u001b[0m\n\u001b[0m",
      "\u001b[1;31mAttributeError\u001b[0m: 'collections.deque' object has no attribute 'PriorityQueue'"
     ]
    }
   ],
   "source": [
    "q=queue.PriorityQueue()"
   ]
  },
  {
   "cell_type": "code",
   "execution_count": 43,
   "id": "built-plant",
   "metadata": {},
   "outputs": [
    {
     "ename": "AttributeError",
     "evalue": "'list' object has no attribute 'put'",
     "output_type": "error",
     "traceback": [
      "\u001b[1;31m---------------------------------------------------------------------------\u001b[0m",
      "\u001b[1;31mAttributeError\u001b[0m                            Traceback (most recent call last)",
      "\u001b[1;32m<ipython-input-43-1ff0d9268120>\u001b[0m in \u001b[0;36m<module>\u001b[1;34m\u001b[0m\n\u001b[1;32m----> 1\u001b[1;33m \u001b[0mq\u001b[0m\u001b[1;33m.\u001b[0m\u001b[0mput\u001b[0m\u001b[1;33m(\u001b[0m\u001b[1;36m9\u001b[0m\u001b[1;33m)\u001b[0m\u001b[1;33m\u001b[0m\u001b[1;33m\u001b[0m\u001b[0m\n\u001b[0m",
      "\u001b[1;31mAttributeError\u001b[0m: 'list' object has no attribute 'put'"
     ]
    }
   ],
   "source": [
    "q.put(9)"
   ]
  },
  {
   "cell_type": "code",
   "execution_count": 44,
   "id": "undefined-scratch",
   "metadata": {},
   "outputs": [
    {
     "ename": "AttributeError",
     "evalue": "'list' object has no attribute 'put'",
     "output_type": "error",
     "traceback": [
      "\u001b[1;31m---------------------------------------------------------------------------\u001b[0m",
      "\u001b[1;31mAttributeError\u001b[0m                            Traceback (most recent call last)",
      "\u001b[1;32m<ipython-input-44-ca581f1cc4ad>\u001b[0m in \u001b[0;36m<module>\u001b[1;34m\u001b[0m\n\u001b[1;32m----> 1\u001b[1;33m \u001b[0mq\u001b[0m\u001b[1;33m.\u001b[0m\u001b[0mput\u001b[0m\u001b[1;33m(\u001b[0m\u001b[1;36m1\u001b[0m\u001b[1;33m)\u001b[0m\u001b[1;33m\u001b[0m\u001b[1;33m\u001b[0m\u001b[0m\n\u001b[0m",
      "\u001b[1;31mAttributeError\u001b[0m: 'list' object has no attribute 'put'"
     ]
    }
   ],
   "source": [
    "q.put(1)"
   ]
  },
  {
   "cell_type": "code",
   "execution_count": 45,
   "id": "celtic-corpus",
   "metadata": {},
   "outputs": [
    {
     "ename": "AttributeError",
     "evalue": "'list' object has no attribute 'put'",
     "output_type": "error",
     "traceback": [
      "\u001b[1;31m---------------------------------------------------------------------------\u001b[0m",
      "\u001b[1;31mAttributeError\u001b[0m                            Traceback (most recent call last)",
      "\u001b[1;32m<ipython-input-45-1ff0d9268120>\u001b[0m in \u001b[0;36m<module>\u001b[1;34m\u001b[0m\n\u001b[1;32m----> 1\u001b[1;33m \u001b[0mq\u001b[0m\u001b[1;33m.\u001b[0m\u001b[0mput\u001b[0m\u001b[1;33m(\u001b[0m\u001b[1;36m9\u001b[0m\u001b[1;33m)\u001b[0m\u001b[1;33m\u001b[0m\u001b[1;33m\u001b[0m\u001b[0m\n\u001b[0m",
      "\u001b[1;31mAttributeError\u001b[0m: 'list' object has no attribute 'put'"
     ]
    }
   ],
   "source": [
    "q.put(9)"
   ]
  },
  {
   "cell_type": "code",
   "execution_count": 46,
   "id": "incorporated-adoption",
   "metadata": {},
   "outputs": [
    {
     "ename": "AttributeError",
     "evalue": "'list' object has no attribute 'get'",
     "output_type": "error",
     "traceback": [
      "\u001b[1;31m---------------------------------------------------------------------------\u001b[0m",
      "\u001b[1;31mAttributeError\u001b[0m                            Traceback (most recent call last)",
      "\u001b[1;32m<ipython-input-46-4afd527a82ad>\u001b[0m in \u001b[0;36m<module>\u001b[1;34m\u001b[0m\n\u001b[1;32m----> 1\u001b[1;33m \u001b[0mq\u001b[0m\u001b[1;33m.\u001b[0m\u001b[0mget\u001b[0m\u001b[1;33m(\u001b[0m\u001b[1;33m)\u001b[0m\u001b[1;33m\u001b[0m\u001b[1;33m\u001b[0m\u001b[0m\n\u001b[0m",
      "\u001b[1;31mAttributeError\u001b[0m: 'list' object has no attribute 'get'"
     ]
    }
   ],
   "source": [
    "q.get()"
   ]
  },
  {
   "cell_type": "code",
   "execution_count": 47,
   "id": "biblical-thanks",
   "metadata": {},
   "outputs": [],
   "source": [
    "#LinkedList\n",
    "#it is chain of node and contains data link and next link\n",
    "#music player image viewer web browser represent and manipulate\n",
    "#polynomial\n",
    "#treserd hunt game\n",
    "#relay runing game"
   ]
  },
  {
   "cell_type": "code",
   "execution_count": 48,
   "id": "elegant-travel",
   "metadata": {},
   "outputs": [],
   "source": [
    "class Node:\n",
    "    def __init__(self,data):\n",
    "        self.data=data\n",
    "        self.next=None"
   ]
  },
  {
   "cell_type": "code",
   "execution_count": 49,
   "id": "negative-option",
   "metadata": {},
   "outputs": [],
   "source": [
    "class LinkedList:\n",
    "    def __init__(self):\n",
    "        self.head=None\n",
    "        \n",
    "    def addbegin(self,data):\n",
    "        new_node=Node(data)\n",
    "        new_node.next=self.head\n",
    "        self.head=new_node\n",
    "    def printlink(self):\n",
    "        if self.head is None:\n",
    "            print(\"linked list is empty\")\n",
    "        else:\n",
    "            n=self.head\n",
    "            while(n is not None):\n",
    "                print(\"-->\",n.data,end=\" \")\n",
    "                n=n.next\n",
    "    def addafter(self,data):\n",
    "        new_node=Node(data)\n",
    "        if self.head is None:\n",
    "            self.head=new_node\n",
    "        else:\n",
    "            n=self.head\n",
    "            while(n.next is not None):\n",
    "                n=n.next\n",
    "            n.next=new_node\n",
    "    def addbeforenode(self,data,key):\n",
    "        new_node=Node(data)\n",
    "        #p=self.head\n",
    "        if self.head is None:\n",
    "            print(\"not found\")\n",
    "        elif self.head.data==key:\n",
    "            new_node.next=self.head\n",
    "            self.head=new_node\n",
    "            print(\"inserted data \",data)\n",
    "        else:\n",
    "            p=self.head\n",
    "            #q=self.head\n",
    "            #p=p.next\n",
    "            flag=0\n",
    "            while p.next is not None:\n",
    "                \n",
    "                if p.next.data==key:\n",
    "                    flag=1\n",
    "                    break\n",
    "                p=p.next\n",
    "            if flag:\n",
    "                new_node=p.next\n",
    "                p.next=new_node\n",
    "                print(\"data is inserted loop\")\n",
    "            else:\n",
    "                print(\"key is not match\")\n",
    "    def insertafterspecified(self,data,key):\n",
    "        new_data=Node(data)\n",
    "        if self.head is None:\n",
    "            print(\"not found\")\n",
    "        else:\n",
    "            f=0\n",
    "            p=self.head\n",
    "            while p is not None:\n",
    "                if p.data==key:\n",
    "                    f=1\n",
    "                    \n",
    "                    break\n",
    "                p=p.next\n",
    "            if f:\n",
    "                #q=p.next\n",
    "                #p.next=new_data\n",
    "                #new_data.next=q\n",
    "                new_data.next=p.next\n",
    "                p.next=new_data\n",
    "                print(\"data is inserted\")\n",
    "            else:\n",
    "                print(\"not matched specified\")\n",
    "    def deleteStart(self):\n",
    "        if self.head is None:\n",
    "            print(\"empty\")\n",
    "        elif self.head.next is None:\n",
    "            self.head=None\n",
    "        else:\n",
    "            self.head=self.head.next\n",
    "            \n",
    "    def deleteLast(self):\n",
    "        if self.head is None:\n",
    "            print(\"empty\")\n",
    "        elif self.head.next is None:\n",
    "            self.head=None\n",
    "    \n",
    "        else:\n",
    "            p=self.head\n",
    "            while p.next.next is not  None:\n",
    "                p=p.next\n",
    "            p.next=None\n",
    "    def deleteSpecified(self,key):\n",
    "        if self.head is None:\n",
    "            print(\"node is empty\")\n",
    "        elif self.head.data==key :\n",
    "            self.head=self.head.next\n",
    "        else:\n",
    "            p=self.head\n",
    "            while p.next is not None:\n",
    "                if p.next.data==key:\n",
    "                    break\n",
    "                p=p.next\n",
    "            if p.next.data==key:\n",
    "                p.next=p.next.next\n",
    "            else:\n",
    "                print(\"not present\")\n",
    "        \n",
    "    "
   ]
  },
  {
   "cell_type": "code",
   "execution_count": 50,
   "id": "vertical-certificate",
   "metadata": {},
   "outputs": [],
   "source": [
    "ll=LinkedList()"
   ]
  },
  {
   "cell_type": "code",
   "execution_count": 87,
   "id": "protecting-future",
   "metadata": {},
   "outputs": [
    {
     "name": "stdout",
     "output_type": "stream",
     "text": [
      "--> 880 --> 880 --> 880 --> 20 --> 20 --> 20 --> 20 "
     ]
    }
   ],
   "source": [
    "ll.printlink()"
   ]
  },
  {
   "cell_type": "code",
   "execution_count": 52,
   "id": "qualified-lesson",
   "metadata": {},
   "outputs": [
    {
     "name": "stdout",
     "output_type": "stream",
     "text": [
      "empty\n"
     ]
    }
   ],
   "source": [
    "ll.deleteLast()"
   ]
  },
  {
   "cell_type": "code",
   "execution_count": 53,
   "id": "sunset-kidney",
   "metadata": {},
   "outputs": [
    {
     "name": "stdout",
     "output_type": "stream",
     "text": [
      "node is empty\n"
     ]
    }
   ],
   "source": [
    "ll.deleteSpecified(8)"
   ]
  },
  {
   "cell_type": "code",
   "execution_count": 82,
   "id": "disturbed-kidney",
   "metadata": {},
   "outputs": [
    {
     "name": "stdout",
     "output_type": "stream",
     "text": [
      "data is inserted loop\n"
     ]
    }
   ],
   "source": [
    "ll.addbeforenode(1,20)"
   ]
  },
  {
   "cell_type": "code",
   "execution_count": 80,
   "id": "thrown-plastic",
   "metadata": {},
   "outputs": [],
   "source": [
    "ll.addbegin(880)"
   ]
  },
  {
   "cell_type": "code",
   "execution_count": 56,
   "id": "incorporated-floating",
   "metadata": {},
   "outputs": [],
   "source": [
    "ll.deleteStart()"
   ]
  },
  {
   "cell_type": "code",
   "execution_count": 57,
   "id": "silent-behalf",
   "metadata": {},
   "outputs": [
    {
     "name": "stdout",
     "output_type": "stream",
     "text": [
      "not found\n"
     ]
    }
   ],
   "source": [
    "ll.insertafterspecified(43,3)"
   ]
  },
  {
   "cell_type": "code",
   "execution_count": 86,
   "id": "speaking-security",
   "metadata": {},
   "outputs": [],
   "source": [
    "ll.addafter(20)"
   ]
  },
  {
   "cell_type": "code",
   "execution_count": 59,
   "id": "documentary-death",
   "metadata": {},
   "outputs": [
    {
     "name": "stdout",
     "output_type": "stream",
     "text": [
      "--> 20 "
     ]
    }
   ],
   "source": [
    "ll.printlink()"
   ]
  },
  {
   "cell_type": "code",
   "execution_count": 60,
   "id": "aging-language",
   "metadata": {},
   "outputs": [],
   "source": [
    "#doubley LinkedList\n",
    "#advantage moving backward and forward is easier\n",
    "#disadvantage Extra memory"
   ]
  },
  {
   "cell_type": "code",
   "execution_count": 289,
   "id": "baking-active",
   "metadata": {},
   "outputs": [],
   "source": [
    "class Node:\n",
    "    def __init__(self,data):\n",
    "        self.data=data\n",
    "        self.prev=None\n",
    "        self.next=None"
   ]
  },
  {
   "cell_type": "code",
   "execution_count": 290,
   "id": "permanent-loading",
   "metadata": {},
   "outputs": [],
   "source": [
    "class DoublyLinkedList:\n",
    "    def __init__(self):\n",
    "        self.head=None\n",
    "    def startbegin(self,data):\n",
    "        new_node=Node(data)\n",
    "        if self.head is None:\n",
    "        \n",
    "            self.head=new_node\n",
    "        else:\n",
    "            self.head.prev=new_node\n",
    "            new_node.next=self.head\n",
    "            self.head=new_node\n",
    "    def add_last(self,data):\n",
    "        new_node=Node(data)\n",
    "        if self.head is None:\n",
    "            self.head=new_node\n",
    "        else:\n",
    "            p=self.head\n",
    "            while p.next is not None:\n",
    "                p=p.next\n",
    "            p.next=new_node\n",
    "            new_node.prev=p\n",
    "    def givenNodeafter(self,data,key):\n",
    "        new_node=Node(data)\n",
    "        if self.head is None:\n",
    "            print(\"empty node\")\n",
    "        elif self.head.data==key:\n",
    "            new_node.prev=self.head\n",
    "            self.head.next=new_node\n",
    "        else:\n",
    "            p=self.head\n",
    "            while p.next is not None:\n",
    "                if p.data==key:\n",
    "                    break\n",
    "                p=p.next\n",
    "            if p.data==key and p.next is not None:\n",
    "                p.next.prev=new_node\n",
    "                new_node.next=p.next\n",
    "                new_node.prev=p\n",
    "                p.next=new_node\n",
    "            elif p.data==key:\n",
    "                p.next=new_node\n",
    "                new_node.prev=p\n",
    "            \n",
    "            else:\n",
    "                print(\"not matched in doubly linkedlist\")\n",
    "    def prrintf(self):\n",
    "        p=self.head\n",
    "        if(self.head is None):\n",
    "            print(\"empty list\")\n",
    "        else:\n",
    "            while p is not None:\n",
    "                print(\"-->\",p.data,end=\" \")\n",
    "                p=p.next\n",
    "    def addbefore(self,data,key):\n",
    "        new_node=Node(data)\n",
    "        if self.head is None:\n",
    "            print(\"empty node\")\n",
    "        else:\n",
    "            p=self.head\n",
    "            while p is not None:\n",
    "                if p.data==key:\n",
    "                    break\n",
    "                p=p.next\n",
    "            if p is None:\n",
    "                print(\"empty\")\n",
    "            elif p.data==key:\n",
    "                new_node.next=p\n",
    "                new_node.prev=p.prev\n",
    "                if p.prev is not None:\n",
    "                    p.prev.next=new_node\n",
    "                else:\n",
    "                    self.head=new_node\n",
    "                p.prev=new_node\n",
    "                \n",
    "    def delete_begin(self):\n",
    "        if self.head is None:\n",
    "            print(\"dll is empty\")\n",
    "        elif self.head.next is None:\n",
    "            self.head=None\n",
    "        else:\n",
    "            p=self.head\n",
    "            p.next.prev=None\n",
    "            self.head=p.next\n",
    "    def delete_last(self):\n",
    "        if self.head is None:\n",
    "            print(\"dll is empty\")\n",
    "        elif self.head.next is None:\n",
    "            self.head=None\n",
    "        else:\n",
    "            p=self.head\n",
    "            while p.next is not None:\n",
    "                p=p.next\n",
    "            p.prev.next=None\n",
    "    def delete_by_value(self,key):\n",
    "        p=self.head\n",
    "        if self.head is None:\n",
    "            print(\"list is empty\")\n",
    "            return\n",
    "        elif self.head==key and self.head.next is None:\n",
    "            self.head=None\n",
    "            return\n",
    "        if self.head.data==key:\n",
    "            self.head=self.head.next\n",
    "            self.head.prev=None\n",
    "        else:\n",
    "            while p.next is not None:\n",
    "                if p.data==key:\n",
    "                    break\n",
    "                p=p.next\n",
    "            if p.data==key and p.next is not None:\n",
    "                p.prev.next=p.next\n",
    "                p.next.prev=p.prev\n",
    "            else:\n",
    "                if p.data==key:\n",
    "                    p.pref.next=None\n",
    "                else:\n",
    "                    print(\"is not found\")\n",
    "                \n",
    "                \n",
    "        \n",
    "        \n",
    "        \n",
    "            \n",
    " #carefule before make head to newnode first node condition node and last node           "
   ]
  },
  {
   "cell_type": "code",
   "execution_count": 304,
   "id": "arctic-jesus",
   "metadata": {},
   "outputs": [],
   "source": [
    "dl=DoublyLinkedList()"
   ]
  },
  {
   "cell_type": "code",
   "execution_count": 305,
   "id": "successful-dependence",
   "metadata": {},
   "outputs": [
    {
     "name": "stdout",
     "output_type": "stream",
     "text": [
      "empty list\n"
     ]
    }
   ],
   "source": [
    "dl.prrintf()"
   ]
  },
  {
   "cell_type": "code",
   "execution_count": 306,
   "id": "proved-carrier",
   "metadata": {},
   "outputs": [
    {
     "name": "stdout",
     "output_type": "stream",
     "text": [
      "list is empty\n"
     ]
    }
   ],
   "source": [
    "dl.delete_by_value(65)"
   ]
  },
  {
   "cell_type": "code",
   "execution_count": 307,
   "id": "after-bosnia",
   "metadata": {},
   "outputs": [
    {
     "name": "stdout",
     "output_type": "stream",
     "text": [
      "dll is empty\n"
     ]
    }
   ],
   "source": [
    "dl.delete_last()"
   ]
  },
  {
   "cell_type": "code",
   "execution_count": 308,
   "id": "acute-detector",
   "metadata": {},
   "outputs": [
    {
     "name": "stdout",
     "output_type": "stream",
     "text": [
      "empty node\n"
     ]
    }
   ],
   "source": [
    "dl.addbefore(9,71)"
   ]
  },
  {
   "cell_type": "code",
   "execution_count": 309,
   "id": "green-stock",
   "metadata": {},
   "outputs": [],
   "source": [
    "dl.startbegin(71)"
   ]
  },
  {
   "cell_type": "code",
   "execution_count": 310,
   "id": "excited-enhancement",
   "metadata": {},
   "outputs": [],
   "source": [
    "dl.delete_begin()"
   ]
  },
  {
   "cell_type": "code",
   "execution_count": 298,
   "id": "bizarre-permission",
   "metadata": {},
   "outputs": [],
   "source": [
    "dl.add_last(93)"
   ]
  },
  {
   "cell_type": "code",
   "execution_count": 299,
   "id": "negative-momentum",
   "metadata": {},
   "outputs": [],
   "source": [
    "dl.givenNodeafter(65,93)"
   ]
  },
  {
   "cell_type": "code",
   "execution_count": 311,
   "id": "bacterial-suspension",
   "metadata": {},
   "outputs": [],
   "source": [
    "#circular linked list connected to last and first\n",
    "#singly and doubly\n",
    "#problem is lead to infinite loop\n"
   ]
  },
  {
   "cell_type": "code",
   "execution_count": null,
   "id": "preceding-princess",
   "metadata": {},
   "outputs": [],
   "source": [
    "#tree \n",
    "#Degree of tree highest node of child\n",
    "#binary search"
   ]
  },
  {
   "cell_type": "code",
   "execution_count": 41,
   "id": "exceptional-failure",
   "metadata": {},
   "outputs": [],
   "source": [
    "class NodetreeBST:\n",
    "    def  __init__(self,key):\n",
    "        self.key=key\n",
    "        self.left=None\n",
    "        self.right=None\n",
    "    def insert(self,data):\n",
    "        if self.key is None:\n",
    "            self.key=data\n",
    "            return\n",
    "        if self.key>data:\n",
    "            if self.left:\n",
    "                self.left.insert(data)\n",
    "            else:\n",
    "                self.left=NodetreeBST(data)\n",
    "        else:\n",
    "            if self.key<data:\n",
    "                if self.right:\n",
    "                    self.right.insert(data)\n",
    "                else:\n",
    "                    self.right=NodetreeBST(data)\n",
    "    def search(self,data):\n",
    "        if self.key==data:\n",
    "            print(\"found\")\n",
    "            return\n",
    "        if data<self.key:\n",
    "            if self.left:\n",
    "                self.left.search(data)\n",
    "            else:\n",
    "                print(\"not found\")\n",
    "        else:\n",
    "            if self.right:\n",
    "                self.right.search(data)\n",
    "            else:\n",
    "                print(\"not found\")\n",
    "                \n",
    "    def preorder(self):\n",
    "        print(self.key)\n",
    "        if self.left:\n",
    "            self.left.preorder()\n",
    "        if self.right:\n",
    "            self.right.preorder()\n",
    "    def inorder(self):\n",
    "        if self.left:\n",
    "            self.left.inorder()\n",
    "        print(self.key)\n",
    "        if self.right:\n",
    "            self.right.inorder()\n",
    "    def postorder(self):\n",
    "        if self.left:\n",
    "            self.left.postorder()\n",
    "        \n",
    "        if self.right:\n",
    "            self.right.postorder() \n",
    "        print(self.key)"
   ]
  },
  {
   "cell_type": "code",
   "execution_count": 42,
   "id": "healthy-transportation",
   "metadata": {},
   "outputs": [],
   "source": [
    "root=NodetreeBST(None)"
   ]
  },
  {
   "cell_type": "code",
   "execution_count": 43,
   "id": "protected-equipment",
   "metadata": {},
   "outputs": [],
   "source": [
    "root.insert(9)"
   ]
  },
  {
   "cell_type": "code",
   "execution_count": 44,
   "id": "infrared-sapphire",
   "metadata": {},
   "outputs": [],
   "source": [
    "l=[3,4,5,6]\n",
    "for i in l:\n",
    "    root.insert(i)"
   ]
  },
  {
   "cell_type": "code",
   "execution_count": 45,
   "id": "arbitrary-omega",
   "metadata": {},
   "outputs": [
    {
     "name": "stdout",
     "output_type": "stream",
     "text": [
      "found\n"
     ]
    }
   ],
   "source": [
    "root.search(3)"
   ]
  },
  {
   "cell_type": "code",
   "execution_count": 46,
   "id": "electric-framework",
   "metadata": {},
   "outputs": [
    {
     "name": "stdout",
     "output_type": "stream",
     "text": [
      "9\n",
      "3\n",
      "4\n",
      "5\n",
      "6\n"
     ]
    }
   ],
   "source": [
    "root.preorder()"
   ]
  },
  {
   "cell_type": "code",
   "execution_count": 47,
   "id": "equipped-allah",
   "metadata": {},
   "outputs": [
    {
     "data": {
      "text/plain": [
       "3"
      ]
     },
     "execution_count": 47,
     "metadata": {},
     "output_type": "execute_result"
    }
   ],
   "source": [
    "root.left.key"
   ]
  },
  {
   "cell_type": "code",
   "execution_count": 48,
   "id": "aging-option",
   "metadata": {},
   "outputs": [
    {
     "name": "stdout",
     "output_type": "stream",
     "text": [
      "3\n",
      "4\n",
      "5\n",
      "6\n",
      "9\n"
     ]
    }
   ],
   "source": [
    "root.inorder()"
   ]
  },
  {
   "cell_type": "code",
   "execution_count": 49,
   "id": "armed-payment",
   "metadata": {},
   "outputs": [
    {
     "name": "stdout",
     "output_type": "stream",
     "text": [
      "found\n"
     ]
    }
   ],
   "source": [
    "root.search(9)"
   ]
  },
  {
   "cell_type": "code",
   "execution_count": 51,
   "id": "thrown-colony",
   "metadata": {},
   "outputs": [
    {
     "name": "stdout",
     "output_type": "stream",
     "text": [
      "6\n",
      "5\n",
      "4\n",
      "3\n",
      "9\n"
     ]
    }
   ],
   "source": [
    "root.postorder()"
   ]
  },
  {
   "cell_type": "code",
   "execution_count": 169,
   "id": "welcome-wyoming",
   "metadata": {},
   "outputs": [],
   "source": [
    "def add_node(v):\n",
    "    global node_count\n",
    "    if v in node:\n",
    "        print('node is already present')\n",
    "    else:\n",
    "        node_count+=1\n",
    "        node.append(v)\n",
    "        for i in graph:\n",
    "            i.append(0)\n",
    "        temp=[]\n",
    "        for i in range(node_count):\n",
    "            temp.append(0)\n",
    "        graph.append(temp)\n",
    "def Graphpri(graph):\n",
    "    for i in graph:\n",
    "        for j in i:\n",
    "            print(j,end=\"  \")\n",
    "        print()\n",
    "def addedge_undirected(v1,v2):\n",
    "    if v1  not in node:\n",
    "        print(\"v1 not present edge\")\n",
    "    elif v2  not in node:\n",
    "        print(\"v2 is ot present\")\n",
    "    else:\n",
    "        index1=node.index(v1)\n",
    "        index2=node.index(v2)\n",
    "        graph[index1][index2]=1\n",
    "        graph[index2][index1]=1\n",
    "def addedge_undirected_cost(v1,v2,cost):\n",
    "    if v1  not in node:\n",
    "        print(\"v1 not present edge\")\n",
    "    elif v2  not in node:\n",
    "        print(\"v2 is ot present\")\n",
    "    else:\n",
    "        index1=node.index(v1)\n",
    "        index2=node.index(v2)\n",
    "        graph[index1][index2]=cost\n",
    "        graph[index2][index1]=cost\n",
    "def addedge_directed(v1,v2):\n",
    "    if v1  not in node:\n",
    "        print(\"v1 not present edge\")\n",
    "    elif v2  not in node:\n",
    "        print(\"v2 is ot present\")\n",
    "    else:\n",
    "        index1=node.index(v1)\n",
    "        index2=node.index(v2)\n",
    "        graph[index1][index2]=1\n",
    "def addedge_directed_cost(v1,v2,cost):\n",
    "    if v1  not in node:\n",
    "        print(\"v1 not present edge\")\n",
    "    elif v2  not in node:\n",
    "        print(\"v2 is ot present\")\n",
    "    else:\n",
    "        index1=node.index(v1)\n",
    "        index2=node.index(v2)\n",
    "        graph[index1][index2]=cost\n",
    "def delete_node_un(v):\n",
    "    global node_count\n",
    "    if v not in node:\n",
    "        print(\"v is not present\")\n",
    "    else:\n",
    "        index1=node.index(v)\n",
    "        node.remove(v)\n",
    "        node_count-=1\n",
    "        graph.pop(index1)\n",
    "        for i in graph:\n",
    "            i.pop(index1)   \n",
    "def delete_edge_un(v1,v2):\n",
    "    if v1 not in node:\n",
    "        print('v1 is not present')\n",
    "    elif v2 not in node:\n",
    "        print('v2 is not present')\n",
    "    else:\n",
    "        index1=node.index(v1)\n",
    "        index2=node.index(v2)\n",
    "        graph[index1][index2]=0\n",
    "        graph[index2][index1]=0\n",
    "def delete_edge_unweigh(v1,v2):\n",
    "    if v1 not in node:\n",
    "        print('v1 is not present')\n",
    "    elif v2 not in node:\n",
    "        print('v2 is not present')\n",
    "    else:\n",
    "        index1=node.index(v1)\n",
    "        index2=node.index(v2)\n",
    "        graph[index1][index2]=0\n",
    "        graph[index2][index1]=0"
   ]
  },
  {
   "cell_type": "code",
   "execution_count": 170,
   "id": "pretty-brook",
   "metadata": {},
   "outputs": [],
   "source": [
    "a={1:2,3:4}"
   ]
  },
  {
   "cell_type": "code",
   "execution_count": 174,
   "id": "julian-minutes",
   "metadata": {},
   "outputs": [
    {
     "data": {
      "text/plain": [
       "{3: 4}"
      ]
     },
     "execution_count": 174,
     "metadata": {},
     "output_type": "execute_result"
    }
   ],
   "source": [
    "a"
   ]
  },
  {
   "cell_type": "code",
   "execution_count": 159,
   "id": "mighty-innocent",
   "metadata": {},
   "outputs": [],
   "source": [
    "node=[]\n",
    "graph=[]\n",
    "node_count=0\n",
    "add_node(9)\n"
   ]
  },
  {
   "cell_type": "code",
   "execution_count": 168,
   "id": "polar-scout",
   "metadata": {},
   "outputs": [
    {
     "data": {
      "text/plain": [
       "[9, 390, 890]"
      ]
     },
     "execution_count": 168,
     "metadata": {},
     "output_type": "execute_result"
    }
   ],
   "source": [
    "node"
   ]
  },
  {
   "cell_type": "code",
   "execution_count": 165,
   "id": "prostate-disaster",
   "metadata": {},
   "outputs": [
    {
     "data": {
      "text/plain": [
       "[[0, 0, 0, 0], [0, 0, 0, 0], [0, 0, 0, 0], [0, 0, 0, 0]]"
      ]
     },
     "execution_count": 165,
     "metadata": {},
     "output_type": "execute_result"
    }
   ],
   "source": [
    "graph"
   ]
  },
  {
   "cell_type": "code",
   "execution_count": 164,
   "id": "composite-cable",
   "metadata": {},
   "outputs": [],
   "source": [
    "add_node(890)"
   ]
  },
  {
   "cell_type": "code",
   "execution_count": 166,
   "id": "facial-enhancement",
   "metadata": {},
   "outputs": [],
   "source": [
    "delete_node_un(39)"
   ]
  },
  {
   "cell_type": "code",
   "execution_count": 167,
   "id": "little-memorabilia",
   "metadata": {},
   "outputs": [
    {
     "name": "stdout",
     "output_type": "stream",
     "text": [
      "0  0  0  \n",
      "0  0  0  \n",
      "0  0  0  \n"
     ]
    }
   ],
   "source": [
    "Graphpri(graph)"
   ]
  },
  {
   "cell_type": "code",
   "execution_count": 51,
   "id": "stainless-large",
   "metadata": {},
   "outputs": [],
   "source": [
    "addedge_undirected(9,85)"
   ]
  },
  {
   "cell_type": "code",
   "execution_count": 70,
   "id": "certified-leather",
   "metadata": {},
   "outputs": [],
   "source": [
    "addedge_directed_cost(9,80,34)"
   ]
  },
  {
   "cell_type": "code",
   "execution_count": 72,
   "id": "inappropriate-excerpt",
   "metadata": {},
   "outputs": [],
   "source": [
    "#using list"
   ]
  },
  {
   "cell_type": "code",
   "execution_count": 138,
   "id": "approximate-facial",
   "metadata": {},
   "outputs": [],
   "source": [
    "def add_node_list(v):\n",
    "    if v in graph:\n",
    "        print(\"already  present\")\n",
    "    else:\n",
    "        graph[v]=[]\n",
    "def add_edge_un(v1,v2):\n",
    "    if v1 not in graph:\n",
    "        print(\"already not present v1\")\n",
    "    elif v2 not in graph:\n",
    "        print(\"v2 not present\")\n",
    "    else:\n",
    "        graph[v1].append(v2)\n",
    "        graph[v2].append(v1)\n",
    "def add_edgeun_cost(v1,v2,cost):\n",
    "    if v1 not in graph:\n",
    "        print(\"already not present v1\")\n",
    "    elif v2 not in graph:\n",
    "        print(\"v2 not present\")\n",
    "    else:\n",
    "        l1=[v2,cost]\n",
    "        l2=[v1,cost]\n",
    "        graph[v1].append(l1)\n",
    "        graph[v2].append(l2)\n",
    "def add_edgedr_cost(v1,v2,cost):\n",
    "    if v1 not in graph:\n",
    "        print(\"already not present v1\")\n",
    "    elif v2 not in graph:\n",
    "        print(\"v2 not present\")\n",
    "    else:\n",
    "    \n",
    "        l2=[v1,cost]\n",
    "        graph[v1].append(l2)\n",
    "    \n",
    "def add_edgedir(v1,v2):\n",
    "    if v1 not in graph:\n",
    "        print(\"already not present v1\")\n",
    "    elif v2 not in graph:\n",
    "        print(\"v2 not present\")\n",
    "    else:\n",
    "        \n",
    "        graph[v1].append(v2)\n",
    "def delete_node_un(v):\n",
    "    global node_count\n",
    "    if v not in node:\n",
    "        print(\"v is not present\")\n",
    "    else:\n",
    "        index1=node.index(v)\n",
    "        node.remove(v)\n",
    "        node_count-=1\n",
    "        graph.pop(index1)\n",
    "        for i in gaph:\n",
    "            i.pop(index1)\n",
    "        \n",
    "def delete_edge(v1,v2):\n",
    "    if v1 not in graph:\n",
    "        print(\"not present v1\")\n",
    "    elif v2  not in graph:\n",
    "        print(\"v2 not present in\")\n",
    "    else:\n",
    "        if v2 in graph[v1]:\n",
    "            graph[v1].remove(v2)\n",
    "            graph[v2].remove(v1)\n",
    "        \n",
    "        \n",
    "        \n",
    "        \n",
    "        \n",
    "        \n",
    "        \n",
    "        \n",
    "        \n",
    "        \n",
    "        \n",
    "        "
   ]
  },
  {
   "cell_type": "code",
   "execution_count": 139,
   "id": "formal-investment",
   "metadata": {},
   "outputs": [],
   "source": [
    "graph={}"
   ]
  },
  {
   "cell_type": "code",
   "execution_count": null,
   "id": "communist-colorado",
   "metadata": {},
   "outputs": [],
   "source": []
  },
  {
   "cell_type": "code",
   "execution_count": 144,
   "id": "declared-justice",
   "metadata": {},
   "outputs": [],
   "source": [
    "add_node_list(4)"
   ]
  },
  {
   "cell_type": "code",
   "execution_count": 145,
   "id": "later-entrepreneur",
   "metadata": {},
   "outputs": [
    {
     "data": {
      "text/plain": [
       "{1: [], 3: [], 4: []}"
      ]
     },
     "execution_count": 145,
     "metadata": {},
     "output_type": "execute_result"
    }
   ],
   "source": [
    "graph"
   ]
  },
  {
   "cell_type": "code",
   "execution_count": 133,
   "id": "honey-laugh",
   "metadata": {},
   "outputs": [
    {
     "name": "stdout",
     "output_type": "stream",
     "text": [
      "already not present v1\n"
     ]
    }
   ],
   "source": [
    "add_edge(0,10)"
   ]
  },
  {
   "cell_type": "code",
   "execution_count": 136,
   "id": "accredited-trainer",
   "metadata": {},
   "outputs": [],
   "source": [
    "add_edgeun_cost(10,1,34)"
   ]
  },
  {
   "cell_type": "code",
   "execution_count": null,
   "id": "ongoing-philosophy",
   "metadata": {},
   "outputs": [],
   "source": []
  },
  {
   "cell_type": "code",
   "execution_count": null,
   "id": "present-payroll",
   "metadata": {},
   "outputs": [],
   "source": []
  },
  {
   "cell_type": "code",
   "execution_count": null,
   "id": "adopted-timber",
   "metadata": {},
   "outputs": [],
   "source": []
  }
 ],
 "metadata": {
  "kernelspec": {
   "display_name": "Python 3",
   "language": "python",
   "name": "python3"
  },
  "language_info": {
   "codemirror_mode": {
    "name": "ipython",
    "version": 3
   },
   "file_extension": ".py",
   "mimetype": "text/x-python",
   "name": "python",
   "nbconvert_exporter": "python",
   "pygments_lexer": "ipython3",
   "version": "3.9.2"
  }
 },
 "nbformat": 4,
 "nbformat_minor": 5
}
